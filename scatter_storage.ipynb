{
 "cells": [
  {
   "cell_type": "code",
   "execution_count": 4,
   "metadata": {
    "slideshow": {
     "slide_type": "skip"
    }
   },
   "outputs": [],
   "source": [
    "#Junior Colloquium\n",
    "#Scatter Plots and Data Storage\n",
    "#Gan Zhang (ganzhang@princeton.edu)"
   ]
  },
  {
   "cell_type": "code",
   "execution_count": 5,
   "metadata": {
    "slideshow": {
     "slide_type": "fragment"
    }
   },
   "outputs": [
    {
     "ename": "ModuleNotFoundError",
     "evalue": "No module named 'urllib2'",
     "output_type": "error",
     "traceback": [
      "\u001b[0;31m---------------------------------------------------------------------------\u001b[0m",
      "\u001b[0;31mModuleNotFoundError\u001b[0m                       Traceback (most recent call last)",
      "\u001b[0;32m<ipython-input-5-94fef7859716>\u001b[0m in \u001b[0;36m<module>\u001b[0;34m\u001b[0m\n\u001b[1;32m      1\u001b[0m \u001b[0;32mimport\u001b[0m \u001b[0mnumpy\u001b[0m \u001b[0;32mas\u001b[0m \u001b[0mnp\u001b[0m\u001b[0;34m\u001b[0m\u001b[0;34m\u001b[0m\u001b[0m\n\u001b[0;32m----> 2\u001b[0;31m \u001b[0;32mimport\u001b[0m \u001b[0murllib2\u001b[0m\u001b[0;34m\u001b[0m\u001b[0;34m\u001b[0m\u001b[0m\n\u001b[0m\u001b[1;32m      3\u001b[0m \u001b[0;34m\u001b[0m\u001b[0m\n\u001b[1;32m      4\u001b[0m \u001b[0mhurricane_data\u001b[0m\u001b[0;34m=\u001b[0m\u001b[0murllib2\u001b[0m\u001b[0;34m.\u001b[0m\u001b[0murlopen\u001b[0m\u001b[0;34m(\u001b[0m\u001b[0;34m\"https://www.esrl.noaa.gov/psd/data/correlation/hurr.data\"\u001b[0m\u001b[0;34m)\u001b[0m\u001b[0;34m\u001b[0m\u001b[0;34m\u001b[0m\u001b[0m\n\u001b[1;32m      5\u001b[0m \u001b[0;34m\u001b[0m\u001b[0m\n",
      "\u001b[0;31mModuleNotFoundError\u001b[0m: No module named 'urllib2'"
     ]
    }
   ],
   "source": [
    "import numpy as np\n",
    "import urllib2 \n",
    "\n",
    "hurricane_data=urllib2.urlopen(\"https://www.esrl.noaa.gov/psd/data/correlation/hurr.data\")\n",
    "\n",
    "for x in hurricane_data: \n",
    "    print(x)\n",
    " "
   ]
  },
  {
   "cell_type": "code",
   "execution_count": null,
   "metadata": {},
   "outputs": [],
   "source": [
    "yr_start = 1979\n",
    "yr_end   = 2016\n",
    "hurr_data = np.zeros((yr_end-yr_start+1, 13))\n",
    "icount = 0\n",
    "\n",
    "hurricane_data=urllib2.urlopen(\"https://www.esrl.noaa.gov/psd/data/correlation/hurr.data\")\n",
    "\n",
    "for line in hurricane_data: \n",
    "    hurr_data_temp0=np.asarray( line.strip().split(\"  \") ) \n",
    "    print(hurr_data_temp0)    \n",
    "    \n",
    "    if len(hurr_data_temp0) == 13: \n",
    "        #print(\"\\n possible data line... converting strings to numeric values \\n\")\n",
    "        hurr_data_temp=hurr_data_temp0.astype(np.float)\n",
    "    \n",
    "        if hurr_data_temp[0] >= yr_start and hurr_data_temp[0] <= yr_end:\n",
    "            print(\"\\n data within desired year range \\n\")\n",
    "            hurr_data[icount,:] = hurr_data_temp\n",
    "            icount = icount+1\n"
   ]
  },
  {
   "cell_type": "code",
   "execution_count": null,
   "metadata": {},
   "outputs": [],
   "source": [
    "np.set_printoptions(precision=2, suppress=True)\n",
    "print(hurr_data[:,1:].mean(axis=0) )"
   ]
  },
  {
   "cell_type": "code",
   "execution_count": null,
   "metadata": {},
   "outputs": [],
   "source": [
    "hurr_jason=hurr_data[:,6:11].mean(axis=1)\n",
    "print(hurr_jason)"
   ]
  },
  {
   "cell_type": "code",
   "execution_count": null,
   "metadata": {},
   "outputs": [],
   "source": [
    "yr_start = 1979\n",
    "yr_end   = 2016\n",
    "nina_data = np.zeros((yr_end-yr_start+1, 13))\n",
    "icount = 0\n",
    "\n",
    "enso_data=urllib2.urlopen(\"https://www.esrl.noaa.gov/psd/data/correlation/nina34.data\")\n",
    "\n",
    "for line in enso_data: \n",
    "    nina_data_temp0=np.asarray( line.strip().split(\"  \") ) \n",
    "    #print(nina_data_temp0)    \n",
    "    \n",
    "    if len(nina_data_temp0) == 13: \n",
    "        #print(\"\\n possible data line... converting strings to numeric values \\n\")\n",
    "        nina_data_temp=nina_data_temp0.astype(np.float)\n",
    "    \n",
    "        if nina_data_temp[0] >= yr_start and nina_data_temp[0] <= yr_end:\n",
    "            #print(\"\\n data within desired year range \\n\")\n",
    "            nina_data[icount,:] = nina_data_temp\n",
    "            icount = icount+1\n",
    "\n",
    "nina_jason=nina_data[:,6:11].mean(axis=1)\n"
   ]
  },
  {
   "cell_type": "code",
   "execution_count": null,
   "metadata": {},
   "outputs": [],
   "source": [
    "%matplotlib inline\n",
    "import matplotlib.pyplot as plt\n"
   ]
  },
  {
   "cell_type": "code",
   "execution_count": null,
   "metadata": {},
   "outputs": [],
   "source": [
    "plt.scatter(nina_jason, hurr_jason)\n",
    "#plt.plot(nina_jason, hurr_jason, 'o', color='black');\n",
    "\n",
    "\n",
    "plt.ylabel('Hurricane Days')\n",
    "plt.xlabel('Nino 3.4 (K)')\n",
    "plt.title(\"Hurricane-ENSO Relation (Jul-Nov)\")\n"
   ]
  },
  {
   "cell_type": "code",
   "execution_count": null,
   "metadata": {},
   "outputs": [],
   "source": [
    "from numpy.polynomial.polynomial import polyfit\n",
    "import matplotlib.pyplot as plt\n",
    "\n",
    "X = nina_jason\n",
    "Y = hurr_jason\n",
    "\n",
    "intercept, slope = polyfit(X, Y, 1)\n",
    "\n",
    "plt.scatter(X,Y)\n",
    "\n",
    "X_plot = np.linspace(np.min(X),np.max(X),100)\n",
    "plt.plot(X_plot, X_plot*slope + intercept)\n",
    "\n",
    "plt.ylabel('Hurricane Days')\n",
    "plt.xlabel('Nino 3.4 (K)')\n",
    "plt.title(\"Hurricane-ENSO Relation (Jul-Nov)\")\n",
    "\n",
    "plt.show()"
   ]
  }
 ],
 "metadata": {
  "celltoolbar": "Slideshow",
  "kernelspec": {
   "display_name": "Python 3",
   "language": "python",
   "name": "python3"
  },
  "language_info": {
   "codemirror_mode": {
    "name": "ipython",
    "version": 3
   },
   "file_extension": ".py",
   "mimetype": "text/x-python",
   "name": "python",
   "nbconvert_exporter": "python",
   "pygments_lexer": "ipython3",
   "version": "3.7.3"
  }
 },
 "nbformat": 4,
 "nbformat_minor": 2
}
