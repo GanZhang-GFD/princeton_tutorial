{
 "cells": [
  {
   "cell_type": "markdown",
   "metadata": {
    "slideshow": {
     "slide_type": "slide"
    }
   },
   "source": [
    "### <center>Junior Colloquium</center>\n",
    "\n",
    "\n",
    "# <center>Exploring Hurricane Activity and Climate Indices:</center>\n",
    "# <center>Scatter Plots and Data Saving</center>\n",
    "\n",
    "\n",
    "### <center>Gan Zhang</center> \n",
    "### <center>ganzhang@princeton.edu</center>"
   ]
  },
  {
   "cell_type": "markdown",
   "metadata": {
    "slideshow": {
     "slide_type": "slide"
    }
   },
   "source": [
    "# <center>Scientific Question</center>\n",
    "\n",
    "## - Climate controls of Atlantic hurricane activity? \n",
    "\n",
    "\n",
    "<img src=\"https://www.ncdc.noaa.gov/ibtracs/images/Fig_01_wmo_regions.png\">\n",
    "\n",
    "<center>IBTrACS / NOAA</center>\n",
    "\n",
    "\n"
   ]
  },
  {
   "cell_type": "markdown",
   "metadata": {
    "slideshow": {
     "slide_type": "slide"
    }
   },
   "source": [
    "## <center>Working with Python</center>\n",
    "\n",
    "<center><img src=\"./python.png\"></center>\n",
    "\n",
    "<center>XKCD</center>\n"
   ]
  },
  {
   "cell_type": "markdown",
   "metadata": {
    "slideshow": {
     "slide_type": "slide"
    }
   },
   "source": [
    "# <center>Study Goals (I)</center>\n",
    "\n",
    "### - An example of research workflow \n",
    "\n",
    "### - Deal with \"messy\" real-world data\n",
    "\n",
    "### - Data-driven discovery\n"
   ]
  },
  {
   "cell_type": "markdown",
   "metadata": {
    "slideshow": {
     "slide_type": "slide"
    }
   },
   "source": [
    "# <center>Study Goals (II)</center>\n",
    "\n",
    "### - Scatter Plots\n",
    "    - Linear Regression & Statistical Significance\n",
    "\n",
    "### - Data storage\n",
    "    - NetCDF example"
   ]
  },
  {
   "cell_type": "code",
   "execution_count": 1,
   "metadata": {
    "slideshow": {
     "slide_type": "slide"
    }
   },
   "outputs": [
    {
     "name": "stdout",
     "output_type": "stream",
     "text": [
      "b' 1948 2016\\n'\n",
      "b' 1948   0.00   0.00   0.00   0.00   0.00   0.00   0.00   5.50  10.00   4.50   0.75   0.00\\n'\n",
      "b' 1949   0.00   0.00   0.00   0.00   0.00   0.00   0.00   8.00   8.75   4.25   0.00   0.00\\n'\n",
      "b' 1950   0.00   0.00   0.00   0.00   0.00   0.00   0.00  16.00  24.25  12.75   0.00   0.00\\n'\n",
      "b' 1951   0.00   0.00   0.00   0.00   6.50   0.00   0.00   7.00  15.50   4.25   0.00   1.00\\n'\n",
      "b' 1952   0.00   0.00   0.00   0.00   0.00   0.00   0.00   1.75   8.75   5.00   0.00   0.00\\n'\n",
      "b' 1953   0.00   0.00   0.00   0.00   0.00   0.00   0.00   2.75  13.75   2.50   0.00   0.00\\n'\n",
      "b' 1954   0.00   0.00   0.00   0.00   0.00   1.00   0.00   4.00   5.75  14.75   0.00   0.50\\n'\n",
      "b' 1955   2.00   0.00   0.00   0.00   0.00   0.00   0.00  16.50  23.50   1.00   0.00   0.00\\n'\n",
      "b' 1956   0.00   0.00   0.00   0.00   0.00   0.00   0.50   8.50   1.50   0.00   2.50   0.00\\n'\n",
      "b' 1957   0.00   0.00   0.00   0.00   0.00   2.25   0.00   0.00  18.75   0.00   0.00   0.00\\n'\n",
      "b' 1958   0.00   0.00   0.00   0.00   0.00   0.00   0.00  11.00  10.75   5.00   0.00   0.00\\n'\n",
      "b' 1959   0.00   0.00   0.00   0.00   0.00   0.50   1.75   0.00   6.00   8.00   0.00   0.00\\n'\n",
      "b' 1960   0.00   0.00   0.00   0.00   0.00   0.00   0.50   1.75  12.75   0.00   0.00   0.00\\n'\n",
      "b' 1961   0.00   0.00   0.00   0.00   0.00   0.00   4.00   0.00  34.00   8.50   1.00   0.00\\n'\n",
      "b' 1962   0.00   0.00   0.00   0.00   0.00   0.00   0.00   1.50   0.00   9.25   0.00   0.00\\n'\n",
      "b' 1963   0.00   0.00   0.00   0.00   0.00   0.00   0.00   9.75   7.00  20.50   0.00   0.00\\n'\n",
      "b' 1964   0.00   0.00   0.00   0.00   0.00   0.00   0.00   6.50  30.50   6.00   0.00   0.00\\n'\n",
      "b' 1965   0.00   0.00   0.00   0.00   0.00   0.00   0.00   4.25  20.00   3.00   0.00   0.00\\n'\n",
      "b' 1966   0.00   0.00   0.00   0.00   0.00   4.00   6.00   8.50  10.00   9.25   4.00   0.00\\n'\n",
      "b' 1967   0.00   0.00   0.00   0.00   0.00   0.00   0.00   0.00  28.25   8.00   0.00   0.00\\n'\n",
      "b' 1968   0.00   0.00   0.00   0.00   0.00   2.25   0.00   2.75   1.75   5.00   0.00   0.00\\n'\n",
      "b' 1969   0.00   0.00   0.00   0.00   0.00   0.00   0.00  13.00   9.00  15.75   2.50   0.00\\n'\n",
      "b' 1970   0.00   0.00   0.00   0.00   0.50   0.00   0.00   2.25   2.00   2.00   0.00   0.00\\n'\n",
      "b' 1971   0.00   0.00   0.00   0.00   0.00   0.00   0.00   3.25  25.50   0.00   0.00   0.00\\n'\n",
      "b' 1972   0.00   0.00   0.00   0.00   0.00   1.50   0.00   3.50   1.25   0.00   0.00   0.00\\n'\n",
      "b' 1973   0.00   0.00   0.00   0.00   0.00   0.00   2.50   0.75   3.75   3.00   0.00   0.00\\n'\n",
      "b' 1974   0.00   0.00   0.00   0.00   0.00   0.00   0.00   3.75  10.50   0.00   0.00   0.00\\n'\n",
      "b' 1975   0.00   0.00   0.00   0.00   0.00   0.00   1.25   2.75  13.75   2.75   0.00   0.00\\n'\n",
      "b' 1976   0.00   0.00   0.00   0.00   0.00   0.00   0.00  14.50   8.75   2.25   0.00   0.00\\n'\n",
      "b' 1977   0.00   0.00   0.00   0.00   0.00   0.00   0.00   1.25   4.50   1.00   0.00   0.00\\n'\n",
      "b' 1978   0.00   0.00   0.00   0.00   0.00   0.00   0.00   1.50  10.75   1.25   0.00   0.00\\n'\n",
      "b' 1979   0.00   0.00   0.00   0.00   0.00   0.00   0.75   4.75  16.00   0.25   0.00   0.00\\n'\n",
      "b' 1980   0.00   0.00   0.00   0.00   0.00   0.00   0.00  13.00  15.50   6.00   3.75   0.00\\n'\n",
      "b' 1981   0.00   0.00   0.00   0.00   0.00   0.00   0.00   0.50  20.75   0.25   1.00   0.00\\n'\n",
      "b' 1982   0.00   0.00   0.00   0.00   0.00   0.50   0.00   0.00   5.25   0.00   0.00   0.00\\n'\n",
      "b' 1983   0.00   0.00   0.00   0.00   0.00   0.00   0.00   2.25   1.25   0.00   0.00   0.00\\n'\n",
      "b' 1984   0.00   0.00   0.00   0.00   0.00   0.00   0.00   0.00   3.75   7.00   4.75   2.75\\n'\n",
      "b' 1985   0.00   0.00   0.00   0.00   0.00   0.00   0.50   5.25   8.00   1.75   5.75   0.00\\n'\n",
      "b' 1986   0.00   0.00   0.00   0.00   0.00   1.00   0.00   1.00   7.25   0.00   1.25   0.00\\n'\n",
      "b' 1987   0.00   0.00   0.00   0.00   0.00   0.00   0.00   1.75   2.75   0.50   0.00   0.00\\n'\n",
      "b' 1988   0.00   0.00   0.00   0.00   0.00   0.00   0.00   0.00  16.25   5.00   0.00   0.00\\n'\n",
      "b' 1989   0.00   0.00   0.00   0.00   0.00   0.00   0.00  11.25  20.00   0.50   0.00   0.00\\n'\n",
      "b' 1990   0.00   0.00   0.00   0.00   0.00   0.00   2.25   7.50  10.00   7.00   0.00   0.00\\n'\n",
      "b' 1991   0.00   0.00   0.00   0.00   0.00   0.00   0.00   2.25   3.75   1.75   0.50   0.00\\n'\n",
      "b' 1992   0.00   0.00   0.00   0.00   0.00   0.00   0.00   4.50   9.50   2.00   0.00   0.00\\n'\n",
      "b' 1993   0.00   0.00   0.00   0.00   0.00   0.00   0.00   4.50   5.00   0.00   0.00   0.00\\n'\n",
      "b' 1994   0.00   0.00   0.00   0.00   0.00   0.00   0.00   2.00   0.00   0.00   5.25   0.00\\n'\n",
      "b' 1995   0.00   0.00   0.00   0.00   0.00   0.75   0.00  25.75  23.25  11.25   0.50   0.00\\n'\n",
      "b' 1996   0.00   0.00   0.00   0.00   0.00   0.00   6.50  11.25  17.50   9.25   0.50   0.00\\n'\n",
      "b' 1997   0.00   0.00   0.00   0.00   0.00   0.00   2.25   0.00   7.25   0.00   0.00   0.00\\n'\n",
      "b' 1998   0.00   0.00   0.00   0.00   0.00   0.00   0.00  13.00  28.00   6.00   1.00   0.50\\n'\n",
      "b' 1999   0.00   0.00   0.00   0.00   0.00   0.00   0.00  14.25  15.75   6.25   4.75   0.00\\n'\n",
      "b' 2000   0.00   0.00   0.00   0.00   0.00   0.00   0.00  14.00  13.50   5.25   0.00   0.00\\n'\n",
      "b' 2001   0.00   0.00   0.00   0.00   0.00   0.00   0.00   0.00  15.50   3.25   6.75   0.00\\n'\n",
      "b' 2002   0.00   0.00   0.00   0.00   0.00   0.00   0.00   0.00   8.00   2.75   0.00   0.00\\n'\n",
      "b' 2003   0.00   0.00   0.00   0.00   0.00   0.00   2.00   2.25  23.00   5.50   0.00   0.00\\n'\n",
      "b' 2004   0.00   0.00   0.00   0.00   0.00   0.00   0.00  15.25  29.75   0.50   0.00   0.00\\n'\n",
      "b' 2005   0.00   0.00   0.00   0.00   0.00   0.00  11.25   7.00  16.75   9.75   0.00   5.00\\n'\n",
      "b' 2006   0.00   0.00   0.00   0.00   0.00   0.00   0.00   0.25  19.50   1.50   0.00   0.00\\n'\n",
      "b' 2007   0.00   0.00   0.00   0.00   0.00   0.00   0.00   6.75   4.50   0.00   1.00   0.00\\n'\n",
      "b' 2008   0.00   0.00   0.00   0.00   0.00   0.00   8.75   3.00  13.50   3.00   2.25   0.00\\n'\n",
      "b' 2009   0.00   0.00   0.00   0.00   0.00   0.00   0.00   7.00   2.75   0.00   2.25   0.00\\n'\n",
      "b' 2010   0.00   0.00   0.00   0.00   0.00   1.00   0.50   9.50  18.50   7.50   1.50   0.00\\n'\n",
      "b' 2011   0.00   0.00   0.00   0.00   0.00   0.00   0.00   6.25  12.25   7.50   0.00   0.00\\n'\n",
      "b' 2012   0.00   0.00   0.00   0.00   0.00   0.75   0.00   6.00  13.75   8.00   0.00   0.00\\n'\n",
      "b' 2013   0.00   0.00   0.00   0.00   0.00   0.00   0.00   0.00   3.25   0.00   0.00   0.00\\n'\n",
      "b' 2014   0.00   0.00   0.00   0.00   0.00   0.00   2.25   4.25   4.50   6.75   0.00   0.00\\n'\n",
      "b' 2015   0.00   0.00   0.00   0.00   0.00   0.00   0.00   3.50   1.00   6.50   1.00   0.00\\n'\n",
      "b' 2016   1.25   0.00   0.00   0.00   0.00   0.00   0.00   6.00   3.50  15.50   1.50   0.00\\n'\n",
      "b' -99.0\\n'\n",
      "b' Number of days with hurricane in Atlantic\\n'\n",
      "b' From Phil Klotzbach\\n'\n",
      "b' stored Jan 2 2018\\n'\n",
      "b' NOAA/ESRL PSD\\n'\n",
      "b' https://www.esrl.noaa.gov/psd/\\n'\n"
     ]
    }
   ],
   "source": [
    "import urllib.request \n",
    "\n",
    "#hurricane_data=urllib.request.urlopen(\"https://www.esrl.noaa.gov/psd/data/correlation/hurr.data\")\n",
    "hurricane_data=urllib.request.urlopen(\"https://raw.githubusercontent.com/GanZhang-GFD/princeton_tutorial/master/hurr.data\")\n",
    "\n",
    "for x in hurricane_data: \n",
    "    print(x)\n",
    " "
   ]
  },
  {
   "cell_type": "code",
   "execution_count": 2,
   "metadata": {
    "slideshow": {
     "slide_type": "slide"
    }
   },
   "outputs": [],
   "source": [
    "import numpy as np\n",
    "\n",
    "# prepare to convert the strings to numeric values \n",
    "\n",
    "yr_start = 1979\n",
    "yr_end   = 2016\n",
    "\n",
    "# create an array to store the data\n",
    "hurr_data = np.zeros((yr_end-yr_start+1, 13))\n",
    "icount = 0\n",
    "\n",
    "hurricane_data=urllib.request.urlopen(\"https://www.esrl.noaa.gov/psd/data/correlation/hurr.data\")"
   ]
  },
  {
   "cell_type": "code",
   "execution_count": 3,
   "metadata": {
    "slideshow": {
     "slide_type": "slide"
    }
   },
   "outputs": [
    {
     "name": "stdout",
     "output_type": "stream",
     "text": [
      "['1948' '2016']\n",
      "['1948' '0.00' '0.00' '0.00' '0.00' '0.00' '0.00' '0.00' '5.50' '10.00'\n",
      " '4.50' '0.75' '0.00']\n",
      "['1949' '0.00' '0.00' '0.00' '0.00' '0.00' '0.00' '0.00' '8.00' '8.75'\n",
      " '4.25' '0.00' '0.00']\n",
      "['1950' '0.00' '0.00' '0.00' '0.00' '0.00' '0.00' '0.00' '16.00' '24.25'\n",
      " '12.75' '0.00' '0.00']\n",
      "['1951' '0.00' '0.00' '0.00' '0.00' '6.50' '0.00' '0.00' '7.00' '15.50'\n",
      " '4.25' '0.00' '1.00']\n",
      "['1952' '0.00' '0.00' '0.00' '0.00' '0.00' '0.00' '0.00' '1.75' '8.75'\n",
      " '5.00' '0.00' '0.00']\n",
      "['1953' '0.00' '0.00' '0.00' '0.00' '0.00' '0.00' '0.00' '2.75' '13.75'\n",
      " '2.50' '0.00' '0.00']\n",
      "['1954' '0.00' '0.00' '0.00' '0.00' '0.00' '1.00' '0.00' '4.00' '5.75'\n",
      " '14.75' '0.00' '0.50']\n",
      "['1955' '2.00' '0.00' '0.00' '0.00' '0.00' '0.00' '0.00' '16.50' '23.50'\n",
      " '1.00' '0.00' '0.00']\n",
      "['1956' '0.00' '0.00' '0.00' '0.00' '0.00' '0.00' '0.50' '8.50' '1.50'\n",
      " '0.00' '2.50' '0.00']\n",
      "['1957' '0.00' '0.00' '0.00' '0.00' '0.00' '2.25' '0.00' '0.00' '18.75'\n",
      " '0.00' '0.00' '0.00']\n",
      "['1958' '0.00' '0.00' '0.00' '0.00' '0.00' '0.00' '0.00' '11.00' '10.75'\n",
      " '5.00' '0.00' '0.00']\n",
      "['1959' '0.00' '0.00' '0.00' '0.00' '0.00' '0.50' '1.75' '0.00' '6.00'\n",
      " '8.00' '0.00' '0.00']\n",
      "['1960' '0.00' '0.00' '0.00' '0.00' '0.00' '0.00' '0.50' '1.75' '12.75'\n",
      " '0.00' '0.00' '0.00']\n",
      "['1961' '0.00' '0.00' '0.00' '0.00' '0.00' '0.00' '4.00' '0.00' '34.00'\n",
      " '8.50' '1.00' '0.00']\n",
      "['1962' '0.00' '0.00' '0.00' '0.00' '0.00' '0.00' '0.00' '1.50' '0.00'\n",
      " '9.25' '0.00' '0.00']\n",
      "['1963' '0.00' '0.00' '0.00' '0.00' '0.00' '0.00' '0.00' '9.75' '7.00'\n",
      " '20.50' '0.00' '0.00']\n",
      "['1964' '0.00' '0.00' '0.00' '0.00' '0.00' '0.00' '0.00' '6.50' '30.50'\n",
      " '6.00' '0.00' '0.00']\n",
      "['1965' '0.00' '0.00' '0.00' '0.00' '0.00' '0.00' '0.00' '4.25' '20.00'\n",
      " '3.00' '0.00' '0.00']\n",
      "['1966' '0.00' '0.00' '0.00' '0.00' '0.00' '4.00' '6.00' '8.50' '10.00'\n",
      " '9.25' '4.00' '0.00']\n",
      "['1967' '0.00' '0.00' '0.00' '0.00' '0.00' '0.00' '0.00' '0.00' '28.25'\n",
      " '8.00' '0.00' '0.00']\n",
      "['1968' '0.00' '0.00' '0.00' '0.00' '0.00' '2.25' '0.00' '2.75' '1.75'\n",
      " '5.00' '0.00' '0.00']\n",
      "['1969' '0.00' '0.00' '0.00' '0.00' '0.00' '0.00' '0.00' '13.00' '9.00'\n",
      " '15.75' '2.50' '0.00']\n",
      "['1970' '0.00' '0.00' '0.00' '0.00' '0.50' '0.00' '0.00' '2.25' '2.00'\n",
      " '2.00' '0.00' '0.00']\n",
      "['1971' '0.00' '0.00' '0.00' '0.00' '0.00' '0.00' '0.00' '3.25' '25.50'\n",
      " '0.00' '0.00' '0.00']\n",
      "['1972' '0.00' '0.00' '0.00' '0.00' '0.00' '1.50' '0.00' '3.50' '1.25'\n",
      " '0.00' '0.00' '0.00']\n",
      "['1973' '0.00' '0.00' '0.00' '0.00' '0.00' '0.00' '2.50' '0.75' '3.75'\n",
      " '3.00' '0.00' '0.00']\n",
      "['1974' '0.00' '0.00' '0.00' '0.00' '0.00' '0.00' '0.00' '3.75' '10.50'\n",
      " '0.00' '0.00' '0.00']\n",
      "['1975' '0.00' '0.00' '0.00' '0.00' '0.00' '0.00' '1.25' '2.75' '13.75'\n",
      " '2.75' '0.00' '0.00']\n",
      "['1976' '0.00' '0.00' '0.00' '0.00' '0.00' '0.00' '0.00' '14.50' '8.75'\n",
      " '2.25' '0.00' '0.00']\n",
      "['1977' '0.00' '0.00' '0.00' '0.00' '0.00' '0.00' '0.00' '1.25' '4.50'\n",
      " '1.00' '0.00' '0.00']\n",
      "['1978' '0.00' '0.00' '0.00' '0.00' '0.00' '0.00' '0.00' '1.50' '10.75'\n",
      " '1.25' '0.00' '0.00']\n",
      "['1979' '0.00' '0.00' '0.00' '0.00' '0.00' '0.00' '0.75' '4.75' '16.00'\n",
      " '0.25' '0.00' '0.00']\n",
      "\n",
      " data within desired year range \n",
      "\n",
      "['1980' '0.00' '0.00' '0.00' '0.00' '0.00' '0.00' '0.00' '13.00' '15.50'\n",
      " '6.00' '3.75' '0.00']\n",
      "\n",
      " data within desired year range \n",
      "\n",
      "['1981' '0.00' '0.00' '0.00' '0.00' '0.00' '0.00' '0.00' '0.50' '20.75'\n",
      " '0.25' '1.00' '0.00']\n",
      "\n",
      " data within desired year range \n",
      "\n",
      "['1982' '0.00' '0.00' '0.00' '0.00' '0.00' '0.50' '0.00' '0.00' '5.25'\n",
      " '0.00' '0.00' '0.00']\n",
      "\n",
      " data within desired year range \n",
      "\n",
      "['1983' '0.00' '0.00' '0.00' '0.00' '0.00' '0.00' '0.00' '2.25' '1.25'\n",
      " '0.00' '0.00' '0.00']\n",
      "\n",
      " data within desired year range \n",
      "\n",
      "['1984' '0.00' '0.00' '0.00' '0.00' '0.00' '0.00' '0.00' '0.00' '3.75'\n",
      " '7.00' '4.75' '2.75']\n",
      "\n",
      " data within desired year range \n",
      "\n",
      "['1985' '0.00' '0.00' '0.00' '0.00' '0.00' '0.00' '0.50' '5.25' '8.00'\n",
      " '1.75' '5.75' '0.00']\n",
      "\n",
      " data within desired year range \n",
      "\n",
      "['1986' '0.00' '0.00' '0.00' '0.00' '0.00' '1.00' '0.00' '1.00' '7.25'\n",
      " '0.00' '1.25' '0.00']\n",
      "\n",
      " data within desired year range \n",
      "\n",
      "['1987' '0.00' '0.00' '0.00' '0.00' '0.00' '0.00' '0.00' '1.75' '2.75'\n",
      " '0.50' '0.00' '0.00']\n",
      "\n",
      " data within desired year range \n",
      "\n",
      "['1988' '0.00' '0.00' '0.00' '0.00' '0.00' '0.00' '0.00' '0.00' '16.25'\n",
      " '5.00' '0.00' '0.00']\n",
      "\n",
      " data within desired year range \n",
      "\n",
      "['1989' '0.00' '0.00' '0.00' '0.00' '0.00' '0.00' '0.00' '11.25' '20.00'\n",
      " '0.50' '0.00' '0.00']\n",
      "\n",
      " data within desired year range \n",
      "\n",
      "['1990' '0.00' '0.00' '0.00' '0.00' '0.00' '0.00' '2.25' '7.50' '10.00'\n",
      " '7.00' '0.00' '0.00']\n",
      "\n",
      " data within desired year range \n",
      "\n",
      "['1991' '0.00' '0.00' '0.00' '0.00' '0.00' '0.00' '0.00' '2.25' '3.75'\n",
      " '1.75' '0.50' '0.00']\n",
      "\n",
      " data within desired year range \n",
      "\n",
      "['1992' '0.00' '0.00' '0.00' '0.00' '0.00' '0.00' '0.00' '4.50' '9.50'\n",
      " '2.00' '0.00' '0.00']\n",
      "\n",
      " data within desired year range \n",
      "\n",
      "['1993' '0.00' '0.00' '0.00' '0.00' '0.00' '0.00' '0.00' '4.50' '5.00'\n",
      " '0.00' '0.00' '0.00']\n",
      "\n",
      " data within desired year range \n",
      "\n",
      "['1994' '0.00' '0.00' '0.00' '0.00' '0.00' '0.00' '0.00' '2.00' '0.00'\n",
      " '0.00' '5.25' '0.00']\n",
      "\n",
      " data within desired year range \n",
      "\n",
      "['1995' '0.00' '0.00' '0.00' '0.00' '0.00' '0.75' '0.00' '25.75' '23.25'\n",
      " '11.25' '0.50' '0.00']\n",
      "\n",
      " data within desired year range \n",
      "\n",
      "['1996' '0.00' '0.00' '0.00' '0.00' '0.00' '0.00' '6.50' '11.25' '17.50'\n",
      " '9.25' '0.50' '0.00']\n",
      "\n",
      " data within desired year range \n",
      "\n",
      "['1997' '0.00' '0.00' '0.00' '0.00' '0.00' '0.00' '2.25' '0.00' '7.25'\n",
      " '0.00' '0.00' '0.00']\n",
      "\n",
      " data within desired year range \n",
      "\n",
      "['1998' '0.00' '0.00' '0.00' '0.00' '0.00' '0.00' '0.00' '13.00' '28.00'\n",
      " '6.00' '1.00' '0.50']\n",
      "\n",
      " data within desired year range \n",
      "\n",
      "['1999' '0.00' '0.00' '0.00' '0.00' '0.00' '0.00' '0.00' '14.25' '15.75'\n",
      " '6.25' '4.75' '0.00']\n",
      "\n",
      " data within desired year range \n",
      "\n",
      "['2000' '0.00' '0.00' '0.00' '0.00' '0.00' '0.00' '0.00' '14.00' '13.50'\n",
      " '5.25' '0.00' '0.00']\n",
      "\n",
      " data within desired year range \n",
      "\n",
      "['2001' '0.00' '0.00' '0.00' '0.00' '0.00' '0.00' '0.00' '0.00' '15.50'\n",
      " '3.25' '6.75' '0.00']\n",
      "\n",
      " data within desired year range \n",
      "\n",
      "['2002' '0.00' '0.00' '0.00' '0.00' '0.00' '0.00' '0.00' '0.00' '8.00'\n",
      " '2.75' '0.00' '0.00']\n",
      "\n",
      " data within desired year range \n",
      "\n",
      "['2003' '0.00' '0.00' '0.00' '0.00' '0.00' '0.00' '2.00' '2.25' '23.00'\n",
      " '5.50' '0.00' '0.00']\n",
      "\n",
      " data within desired year range \n",
      "\n",
      "['2004' '0.00' '0.00' '0.00' '0.00' '0.00' '0.00' '0.00' '15.25' '29.75'\n",
      " '0.50' '0.00' '0.00']\n",
      "\n",
      " data within desired year range \n",
      "\n",
      "['2005' '0.00' '0.00' '0.00' '0.00' '0.00' '0.00' '11.25' '7.00' '16.75'\n",
      " '9.75' '0.00' '5.00']\n",
      "\n",
      " data within desired year range \n",
      "\n",
      "['2006' '0.00' '0.00' '0.00' '0.00' '0.00' '0.00' '0.00' '0.25' '19.50'\n",
      " '1.50' '0.00' '0.00']\n",
      "\n",
      " data within desired year range \n",
      "\n",
      "['2007' '0.00' '0.00' '0.00' '0.00' '0.00' '0.00' '0.00' '6.75' '4.50'\n",
      " '0.00' '1.00' '0.00']\n",
      "\n",
      " data within desired year range \n",
      "\n",
      "['2008' '0.00' '0.00' '0.00' '0.00' '0.00' '0.00' '8.75' '3.00' '13.50'\n",
      " '3.00' '2.25' '0.00']\n",
      "\n",
      " data within desired year range \n",
      "\n",
      "['2009' '0.00' '0.00' '0.00' '0.00' '0.00' '0.00' '0.00' '7.00' '2.75'\n",
      " '0.00' '2.25' '0.00']\n",
      "\n",
      " data within desired year range \n",
      "\n",
      "['2010' '0.00' '0.00' '0.00' '0.00' '0.00' '1.00' '0.50' '9.50' '18.50'\n",
      " '7.50' '1.50' '0.00']\n",
      "\n",
      " data within desired year range \n",
      "\n",
      "['2011' '0.00' '0.00' '0.00' '0.00' '0.00' '0.00' '0.00' '6.25' '12.25'\n",
      " '7.50' '0.00' '0.00']\n",
      "\n",
      " data within desired year range \n",
      "\n",
      "['2012' '0.00' '0.00' '0.00' '0.00' '0.00' '0.75' '0.00' '6.00' '13.75'\n",
      " '8.00' '0.00' '0.00']\n",
      "\n",
      " data within desired year range \n",
      "\n",
      "['2013' '0.00' '0.00' '0.00' '0.00' '0.00' '0.00' '0.00' '0.00' '3.25'\n",
      " '0.00' '0.00' '0.00']\n",
      "\n",
      " data within desired year range \n",
      "\n",
      "['2014' '0.00' '0.00' '0.00' '0.00' '0.00' '0.00' '2.25' '4.25' '4.50'\n",
      " '6.75' '0.00' '0.00']\n",
      "\n",
      " data within desired year range \n",
      "\n",
      "['2015' '0.00' '0.00' '0.00' '0.00' '0.00' '0.00' '0.00' '3.50' '1.00'\n",
      " '6.50' '1.00' '0.00']\n",
      "\n",
      " data within desired year range \n",
      "\n",
      "['2016' '1.25' '0.00' '0.00' '0.00' '0.00' '0.00' '0.00' '6.00' '3.50'\n",
      " '15.50' '1.50' '0.00']\n",
      "\n",
      " data within desired year range \n",
      "\n",
      "['-99.0']\n",
      "['Number' 'of' 'days' 'with' 'hurricane' 'in' 'Atlantic']\n",
      "['From' 'Phil' 'Klotzbach']\n",
      "['stored' 'Jan' '2' '2018']\n",
      "['NOAA/ESRL' 'PSD']\n",
      "['https://www.esrl.noaa.gov/psd/']\n"
     ]
    }
   ],
   "source": [
    "import re\n",
    "\n",
    "for line in hurricane_data: \n",
    "    \n",
    "    # What are the purposes of the two-line code above?\n",
    "    linex = re.sub(' +', ' ', line.decode('utf-8'))\n",
    "    hurr_data_temp0=np.asarray( linex.strip().split(\" \") ) \n",
    "   \n",
    "    print(hurr_data_temp0)    \n",
    "    \n",
    "    if len(hurr_data_temp0) == 13: \n",
    "        #print(\"\\n possible data line... converting strings to numeric values \\n\")\n",
    "        hurr_data_temp = hurr_data_temp0.astype(np.float)\n",
    "    \n",
    "        if hurr_data_temp[0] >= yr_start and hurr_data_temp[0] <= yr_end:\n",
    "            print(\"\\n data within desired year range \\n\")\n",
    "            hurr_data[icount,:] = hurr_data_temp\n",
    "            icount = icount+1\n"
   ]
  },
  {
   "cell_type": "code",
   "execution_count": 4,
   "metadata": {
    "slideshow": {
     "slide_type": "slide"
    }
   },
   "outputs": [
    {
     "name": "stdout",
     "output_type": "stream",
     "text": [
      "[1997.5     0.03    0.      0.      0.      0.      0.11    0.97    5.68\n",
      "   11.59    3.89    1.19]\n"
     ]
    },
    {
     "data": {
      "text/plain": [
       "[<matplotlib.lines.Line2D at 0x7f57ab24bfd0>]"
      ]
     },
     "execution_count": 4,
     "metadata": {},
     "output_type": "execute_result"
    },
    {
     "data": {
      "image/png": "[encoded data removed]",
      "text/plain": [
       "<Figure size 432x288 with 1 Axes>"
      ]
     },
     "metadata": {
      "needs_background": "light"
     },
     "output_type": "display_data"
    }
   ],
   "source": [
    "# Sanity check... What could go wrong? \n",
    "\n",
    "np.set_printoptions(precision=2, suppress=True)\n",
    "\n",
    "# print out the multi-year means for each month (Jan-Dec) \n",
    "print(hurr_data[:,0:12].mean(axis=0) )\n",
    "\n",
    "%matplotlib inline\n",
    "import matplotlib.pyplot as plt\n",
    "plt.plot(np.linspace(1, 12, 12), hurr_data[:,0:12].mean(axis=0))"
   ]
  },
  {
   "cell_type": "code",
   "execution_count": 5,
   "metadata": {
    "slideshow": {
     "slide_type": "slide"
    }
   },
   "outputs": [
    {
     "data": {
      "text/plain": [
       "[<matplotlib.lines.Line2D at 0x7f57ab1766a0>]"
      ]
     },
     "execution_count": 5,
     "metadata": {},
     "output_type": "execute_result"
    },
    {
     "data": {
      "image/png": "[encoded data removed]",
      "text/plain": [
       "<Figure size 432x288 with 1 Axes>"
      ]
     },
     "metadata": {
      "needs_background": "light"
     },
     "output_type": "display_data"
    }
   ],
   "source": [
    "# looks like most hurricanes occur during the 7th to the 11th months\n",
    "# Let's sum up values for each year\n",
    "hurr_jason=hurr_data[:,7:12].sum(axis=1)\n",
    "plt.plot(hurr_data[:,0], hurr_jason)"
   ]
  },
  {
   "cell_type": "code",
   "execution_count": 6,
   "metadata": {
    "slideshow": {
     "slide_type": "slide"
    }
   },
   "outputs": [],
   "source": [
    "# Read some ENSO data\n",
    "nina_data = np.zeros((yr_end-yr_start+1, 13))\n",
    "icount = 0\n",
    "\n",
    "# What could affect hurricane activity? let's get some ENSO data\n",
    "enso_data=urllib.request.urlopen(\"https://www.esrl.noaa.gov/psd/data/correlation/nina34.data\")\n",
    "\n",
    "for line in enso_data: \n",
    "    linex = re.sub(' +', ' ', line.decode('utf-8'))\n",
    "    nina_data_temp0=np.asarray( linex.strip().split(\" \") ) \n",
    "    #print(nina_data_temp0)\n",
    "    \n",
    "    if len(nina_data_temp0) == 13: \n",
    "        #print(\"\\n possible data line... converting strings to numeric values \\n\")\n",
    "        nina_data_temp=nina_data_temp0.astype(np.float)\n",
    "        #print(nina_data_temp)\n",
    "    \n",
    "        if nina_data_temp[0] >= yr_start and nina_data_temp[0] <= yr_end:\n",
    "            #print(\"\\n data within desired year range \\n\")\n",
    "            nina_data[icount,:] = nina_data_temp\n",
    "            icount = icount+1\n",
    "\n",
    "nina_jason=nina_data[:,7:12].mean(axis=1)\n"
   ]
  },
  {
   "cell_type": "code",
   "execution_count": 7,
   "metadata": {
    "slideshow": {
     "slide_type": "slide"
    }
   },
   "outputs": [
    {
     "data": {
      "text/plain": [
       "Text(0.5, 1.0, 'Hurricane-ENSO Relation (Jul-Nov)')"
      ]
     },
     "execution_count": 7,
     "metadata": {},
     "output_type": "execute_result"
    },
    {
     "data": {
      "image/png": "[encoded data removed]",
      "text/plain": [
       "<Figure size 432x288 with 1 Axes>"
      ]
     },
     "metadata": {
      "needs_background": "light"
     },
     "output_type": "display_data"
    }
   ],
   "source": [
    "import matplotlib.pyplot as plt\n",
    "\n",
    "plt.scatter(nina_jason, hurr_jason)\n",
    "#plt.plot(nina_jason, hurr_jason, 'o', color='black');\n",
    "\n",
    "plt.ylabel('Hurricane Days')\n",
    "plt.xlabel('Nino 3.4 (K)')\n",
    "plt.title(\"Hurricane-ENSO Relation (Jul-Nov)\")\n"
   ]
  },
  {
   "cell_type": "code",
   "execution_count": 8,
   "metadata": {
    "slideshow": {
     "slide_type": "slide"
    }
   },
   "outputs": [
    {
     "data": {
      "text/plain": [
       "Text(0.5, 1.0, 'Hurricane-ENSO Relation (Jul-Nov)')"
      ]
     },
     "execution_count": 8,
     "metadata": {},
     "output_type": "execute_result"
    },
    {
     "data": {
      "image/png": "[encoded data removed]",
      "text/plain": [
       "<Figure size 432x288 with 1 Axes>"
      ]
     },
     "metadata": {
      "needs_background": "light"
     },
     "output_type": "display_data"
    }
   ],
   "source": [
    "import matplotlib.pyplot as plt\n",
    "from numpy.polynomial.polynomial import polyfit\n",
    "\n",
    "X = nina_jason;  Y = hurr_jason\n",
    "plt.scatter(X,Y)\n",
    "\n",
    "intercept, slope = polyfit(X, Y, 1)\n",
    "\n",
    "X_plot = np.linspace(np.min(X),np.max(X),100)\n",
    "plt.plot(X_plot, X_plot*slope + intercept)\n",
    "\n",
    "plt.ylabel('Hurricane Days');  plt.xlabel('Nino 3.4 (K)')\n",
    "plt.title(\"Hurricane-ENSO Relation (Jul-Nov)\")"
   ]
  },
  {
   "cell_type": "code",
   "execution_count": 9,
   "metadata": {
    "slideshow": {
     "slide_type": "slide"
    }
   },
   "outputs": [],
   "source": [
    "# What can the following lines do? \n",
    "\n",
    "#import statsmodels.api as smodel\n",
    "#\n",
    "#results = smodel.OLS(Y,smodel.add_constant(X)).fit()\n",
    "#\n",
    "#plt.scatter(X,Y)\n",
    "#X_plot = np.linspace(np.min(X),np.max(X),100)\n",
    "#plt.plot(X_plot, X_plot*results.params[1] + results.params[0])\n",
    "#\n",
    "#plt.ylabel('Hurricane Days')\n",
    "#plt.xlabel('Nino 3.4 (K)')\n",
    "#plt.title(\"Hurricane-ENSO Relation (Jul-Nov)\")\n",
    "\n",
    "#plt.show()\n",
    "\n",
    "#print(results.summary())"
   ]
  },
  {
   "cell_type": "markdown",
   "metadata": {
    "slideshow": {
     "slide_type": "slide"
    }
   },
   "source": [
    "# <center>Let's check some additional climate indices</center>\n",
    "# <center>https://www.esrl.noaa.gov/psd/data/climateindices/list/</center>\n",
    "\n",
    "\n",
    "# <center>Anything else that might be associated with hurricane activity?</center>\n",
    "### <center>Hint: Ocean strongly affects the atmosphere above...</center>"
   ]
  },
  {
   "cell_type": "markdown",
   "metadata": {
    "slideshow": {
     "slide_type": "slide"
    }
   },
   "source": [
    "# <center>What are the underlying physical mechanism(s)?</center>\n",
    "\n",
    "# <center>How can leverage the understanding to predict hurricane activity? </center>\n",
    "\n",
    "\n",
    "\n",
    "#### <center> Murakami et al. (2018): Dominant effect of relative tropical Atlantic warming on major hurricane occurrence, Science.</center>"
   ]
  },
  {
   "cell_type": "code",
   "execution_count": 10,
   "metadata": {
    "slideshow": {
     "slide_type": "slide"
    }
   },
   "outputs": [
    {
     "data": {
      "text/plain": [
       "Text(0.5, 1.0, 'Hurricane-ENSO Relation (Jul-Nov)')"
      ]
     },
     "execution_count": 10,
     "metadata": {},
     "output_type": "execute_result"
    },
    {
     "data": {
      "image/png": "[encoded data removed]",
      "text/plain": [
       "<Figure size 432x288 with 2 Axes>"
      ]
     },
     "metadata": {
      "needs_background": "light"
     },
     "output_type": "display_data"
    }
   ],
   "source": [
    "# Some data from wikipedia (!! Not Research-Quality !!)\n",
    "# https://en.wikipedia.org/wiki/Atlantic_hurricane_season\n",
    "\n",
    "death_num = [2118, 256, 10, 141,  22,  35,  241,  70,  10,  550,  112, 116,  66,  274,  1184,  141, 115,  179,  11,  12000,  465,  105,  187,  50,  93,  3260,  3960,  14,  478, 1065,  9,  392,  112,  302,  54,  21,  89,  748]\n",
    "loss_billion = [4.3,  1,  0.045,  0.1,  2.6,  0.066,  4.5,  0.057,  0.090,  7,  10.7,  0.15,  2.5,  27,  0.271,  1.56,  9.3,  3.8,  0.11,  12.2,  5.9,  1.296,  11.45,  2.47,  6.33,  61.17,  180.7,  0.504,  3.42,  49.46,  0.058,  7.4,  17.4,  72.32,  1.51,  0.37,  0.81,  17.49] \n",
    "\n",
    "plt.scatter(X, Y, c=loss_billion, s=death_num, alpha=.8, cmap='viridis')\n",
    "plt.colorbar()\n",
    "\n",
    "plt.ylabel('Hurricane Days')\n",
    "plt.xlabel('Nino 3.4 (K)')\n",
    "plt.title(\"Hurricane-ENSO Relation (Jul-Nov)\")"
   ]
  },
  {
   "cell_type": "code",
   "execution_count": 11,
   "metadata": {
    "slideshow": {
     "slide_type": "slide"
    }
   },
   "outputs": [],
   "source": [
    "# put data in a csv/text file\n",
    "\n",
    "np.savetxt(\"hurr.csv\", hurr_jason, delimiter=\",\", fmt='%8.3f')\n",
    "np.savetxt(\"nina34.csv\", nina_jason, delimiter=\",\", fmt='%8.3f')\n",
    "\n",
    "# put data into a netcdf file \n",
    "\n",
    "from netCDF4 import Dataset, num2date\n",
    "rootgrp = Dataset(\"hurr_nina34.nc\", \"w\", format=\"NETCDF4\")\n",
    "rootgrp.createDimension(\"year\", yr_end-yr_start+1)\n",
    "\n",
    "hurr=rootgrp.createVariable(\"hurr\",\"f4\",(\"year\"))\n",
    "hurr[:]=hurr_jason\n",
    "nina34=rootgrp.createVariable(\"nina34\",\"f4\",(\"year\"))\n",
    "nina34[:]=nina_jason\n",
    "\n",
    "rootgrp.close()"
   ]
  }
 ],
 "metadata": {
  "celltoolbar": "Slideshow",
  "kernelspec": {
   "display_name": "Python 3",
   "language": "python",
   "name": "python3"
  },
  "language_info": {
   "codemirror_mode": {
    "name": "ipython",
    "version": 3
   },
   "file_extension": ".py",
   "mimetype": "text/x-python",
   "name": "python",
   "nbconvert_exporter": "python",
   "pygments_lexer": "ipython3",
   "version": "3.7.3"
  }
 },
 "nbformat": 4,
 "nbformat_minor": 2
}
