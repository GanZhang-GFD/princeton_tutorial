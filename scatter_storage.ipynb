{
 "cells": [
  {
   "cell_type": "markdown",
   "metadata": {
    "slideshow": {
     "slide_type": "slide"
    }
   },
   "source": [
    "### <center>Junior Colloquium</center>\n",
    "\n",
    "\n",
    "# <center>Exploring Hurricane and Climate Data:</center>\n",
    "# <center>Scatter Plots and Data Saving</center>\n",
    "\n",
    "\n",
    "### <center>Gan Zhang</center> \n",
    "### <center>ganzhang@princeton.edu</center>"
   ]
  },
  {
   "cell_type": "markdown",
   "metadata": {
    "slideshow": {
     "slide_type": "slide"
    }
   },
   "source": [
    "# <center>Scientific Question</center>\n",
    "\n",
    "## - Climate controls of Atlantic hurricane activity? \n",
    "\n",
    "\n",
    "<img src=\"https://www.ncdc.noaa.gov/ibtracs/images/Fig_01_wmo_regions.png\">\n",
    "\n",
    "<center>IBTrACS / NOAA</center>\n",
    "\n",
    "\n"
   ]
  },
  {
   "cell_type": "markdown",
   "metadata": {
    "slideshow": {
     "slide_type": "slide"
    }
   },
   "source": [
    "## <center>Working with Python</center>\n",
    "\n",
    "<center><img src=\"https://imgs.xkcd.com/comics/python.png\"></center>\n",
    "\n",
    "<center>XKCD</center>\n"
   ]
  },
  {
   "cell_type": "markdown",
   "metadata": {
    "slideshow": {
     "slide_type": "slide"
    }
   },
   "source": [
    "# <center>Study Goals (I)</center>\n",
    "\n",
    "### - An example of research workflow \n",
    "\n",
    "### - Deal with \"messy\" real-world data\n",
    "\n",
    "### - Data-driven discovery\n"
   ]
  },
  {
   "cell_type": "markdown",
   "metadata": {
    "slideshow": {
     "slide_type": "slide"
    }
   },
   "source": [
    "# <center>Study Goals (II)</center>\n",
    "\n",
    "### - Scatter Plots\n",
    "    - Linear Regression & Statistical Significance\n",
    "\n",
    "### - Data storage\n",
    "    - NetCDF example"
   ]
  },
  {
   "cell_type": "code",
   "execution_count": null,
   "metadata": {
    "slideshow": {
     "slide_type": "slide"
    }
   },
   "outputs": [],
   "source": [
    "import numpy as np\n",
    "import urllib.request \n",
    "import re\n",
    "\n",
    "#hurricane_data=urllib.request.urlopen(\"https://www.esrl.noaa.gov/psd/data/correlation/hurr.data\")\n",
    "hurricane_data=urllib.request.urlopen(\"https://raw.githubusercontent.com/GanZhang-GFD/princeton_tutorial/master/hurr.data\")\n",
    "\n",
    "for x in hurricane_data: \n",
    "    print(x)\n",
    " "
   ]
  },
  {
   "cell_type": "code",
   "execution_count": null,
   "metadata": {
    "slideshow": {
     "slide_type": "slide"
    }
   },
   "outputs": [],
   "source": [
    "# prepare to convert the strings to numeric values \n",
    "\n",
    "yr_start = 1979\n",
    "yr_end   = 2016\n",
    "\n",
    "# create an array to store the data\n",
    "hurr_data = np.zeros((yr_end-yr_start+1, 13))\n",
    "icount = 0\n",
    "\n",
    "hurricane_data=urllib.request.urlopen(\"https://raw.githubusercontent.com/GanZhang-GFD/princeton_tutorial/master/hurr.data\")"
   ]
  },
  {
   "cell_type": "code",
   "execution_count": null,
   "metadata": {
    "slideshow": {
     "slide_type": "slide"
    }
   },
   "outputs": [],
   "source": [
    "for line in hurricane_data: \n",
    "    \n",
    "    linex = re.sub(' +', ' ', line.decode('utf-8'))\n",
    "    hurr_data_temp0=np.asarray( linex.strip().split(\" \") ) \n",
    "\n",
    "    # What are the purposes of the two-line code above?\n",
    "    # Hints: 1) real world data are messy\n",
    "    #        2) try hurr_data_temp0 = line\n",
    "    \n",
    "    print(hurr_data_temp0)    \n",
    "    \n",
    "    if len(hurr_data_temp0) == 13: \n",
    "        #print(\"\\n possible data line... converting strings to numeric values \\n\")\n",
    "        hurr_data_temp = hurr_data_temp0.astype(np.float)\n",
    "    \n",
    "        if hurr_data_temp[0] >= yr_start and hurr_data_temp[0] <= yr_end:\n",
    "            print(\"\\n data within desired year range \\n\")\n",
    "            hurr_data[icount,:] = hurr_data_temp\n",
    "            icount = icount+1\n"
   ]
  },
  {
   "cell_type": "code",
   "execution_count": null,
   "metadata": {
    "slideshow": {
     "slide_type": "slide"
    }
   },
   "outputs": [],
   "source": [
    "np.set_printoptions(precision=2, suppress=True)\n",
    "\n",
    "# print out the multi-year means for each month (Jan-Dec) \n",
    "print(hurr_data[:,1:].mean(axis=0) )\n",
    "\n",
    "%matplotlib inline\n",
    "import matplotlib.pyplot as plt\n",
    "plt.plot(np.linspace(1, 12, 12), hurr_data[:,1:].mean(axis=0))"
   ]
  },
  {
   "cell_type": "code",
   "execution_count": null,
   "metadata": {
    "slideshow": {
     "slide_type": "slide"
    }
   },
   "outputs": [],
   "source": [
    "# looks like most hurricanes occur during the 7th to the 11th months\n",
    "# Let's sum up values for each year\n",
    "hurr_jason=hurr_data[:,7:12].sum(axis=1)\n",
    "plt.plot(hurr_data[:,0], hurr_jason)"
   ]
  },
  {
   "cell_type": "code",
   "execution_count": null,
   "metadata": {
    "slideshow": {
     "slide_type": "slide"
    }
   },
   "outputs": [],
   "source": [
    "# Read some ENSO data\n",
    "nina_data = np.zeros((yr_end-yr_start+1, 13))\n",
    "icount = 0\n",
    "\n",
    "# What could affect hurricane activity? let's get some ENSO data\n",
    "enso_data=urllib.request.urlopen(\"https://raw.githubusercontent.com/GanZhang-GFD/princeton_tutorial/master/nina34.data\")\n",
    "\n",
    "for line in enso_data: \n",
    "    linex = re.sub(' +', ' ', line.decode('utf-8'))\n",
    "    nina_data_temp0=np.asarray( linex.strip().split(\" \") ) \n",
    "    #print(nina_data_temp0)\n",
    "    \n",
    "    if len(nina_data_temp0) == 13: \n",
    "        #print(\"\\n possible data line... converting strings to numeric values \\n\")\n",
    "        nina_data_temp=nina_data_temp0.astype(np.float)\n",
    "        #print(nina_data_temp)\n",
    "    \n",
    "        if nina_data_temp[0] >= yr_start and nina_data_temp[0] <= yr_end:\n",
    "            #print(\"\\n data within desired year range \\n\")\n",
    "            nina_data[icount,:] = nina_data_temp\n",
    "            icount = icount+1\n",
    "\n",
    "nina_jason=nina_data[:,7:12].mean(axis=1)\n"
   ]
  },
  {
   "cell_type": "code",
   "execution_count": null,
   "metadata": {
    "slideshow": {
     "slide_type": "slide"
    }
   },
   "outputs": [],
   "source": [
    "import matplotlib.pyplot as plt\n",
    "\n",
    "plt.scatter(nina_jason, hurr_jason)\n",
    "#plt.plot(nina_jason, hurr_jason, 'o', color='black');\n",
    "\n",
    "plt.ylabel('Hurricane Days')\n",
    "plt.xlabel('Nino 3.4 (K)')\n",
    "plt.title(\"Hurricane-ENSO Relation (Jul-Nov)\")\n"
   ]
  },
  {
   "cell_type": "code",
   "execution_count": null,
   "metadata": {
    "slideshow": {
     "slide_type": "slide"
    }
   },
   "outputs": [],
   "source": [
    "import matplotlib.pyplot as plt\n",
    "from numpy.polynomial.polynomial import polyfit\n",
    "\n",
    "X = nina_jason;  Y = hurr_jason\n",
    "\n",
    "intercept, slope = polyfit(X, Y, 1)\n",
    "plt.scatter(X,Y)\n",
    "\n",
    "X_plot = np.linspace(np.min(X),np.max(X),100)\n",
    "plt.plot(X_plot, X_plot*slope + intercept)\n",
    "\n",
    "plt.ylabel('Hurricane Days');  plt.xlabel('Nino 3.4 (K)')\n",
    "plt.title(\"Hurricane-ENSO Relation (Jul-Nov)\")"
   ]
  },
  {
   "cell_type": "code",
   "execution_count": null,
   "metadata": {
    "slideshow": {
     "slide_type": "slide"
    }
   },
   "outputs": [],
   "source": [
    "# What can the following lines do? \n",
    "\n",
    "#import statsmodels.api as smodel\n",
    "#\n",
    "#results = smodel.OLS(Y,smodel.add_constant(X)).fit()\n",
    "#\n",
    "#plt.scatter(X,Y)\n",
    "#X_plot = np.linspace(np.min(X),np.max(X),100)\n",
    "#plt.plot(X_plot, X_plot*results.params[1] + results.params[0])\n",
    "#\n",
    "#plt.ylabel('Hurricane Days')\n",
    "#plt.xlabel('Nino 3.4 (K)')\n",
    "#plt.title(\"Hurricane-ENSO Relation (Jul-Nov)\")\n",
    "\n",
    "#plt.show()\n",
    "\n",
    "#print(results.summary())"
   ]
  },
  {
   "cell_type": "markdown",
   "metadata": {
    "slideshow": {
     "slide_type": "slide"
    }
   },
   "source": [
    "# <center>Let's check some additional climate indices</center>\n",
    "# <center>https://www.esrl.noaa.gov/psd/data/climateindices/list/</center>\n",
    "\n",
    "\n",
    "# <center>Anything else that might be associated with hurricane activity?</center>\n",
    "### <center>Hint: Ocean strongly affects the atmosphere above...</center>"
   ]
  },
  {
   "cell_type": "markdown",
   "metadata": {
    "slideshow": {
     "slide_type": "slide"
    }
   },
   "source": [
    "# <center>What are the underlying physical mechanism(s)?</center>\n",
    "\n",
    "# <center>How can leverage the understanding to predict hurricane activity? </center>\n",
    "\n",
    "\n",
    "\n",
    "#### <center> Murakami et al. (2018): Dominant effect of relative tropical Atlantic warming on major hurricane occurrence, Science.</center>"
   ]
  },
  {
   "cell_type": "code",
   "execution_count": null,
   "metadata": {
    "slideshow": {
     "slide_type": "slide"
    }
   },
   "outputs": [],
   "source": [
    "# Some data from wikipedia (!! Not Research-Quality !!)\n",
    "# https://en.wikipedia.org/wiki/Atlantic_hurricane_season\n",
    "\n",
    "death_num = [2118, 256, 10, 141,  22,  35,  241,  70,  10,  550,  112, 116,  66,  274,  1184,  141, 115,  179,  11,  12000,  465,  105,  187,  50,  93,  3260,  3960,  14,  478, 1065,  9,  392,  112,  302,  54,  21,  89,  748]\n",
    "loss_billion = [4.3,  1,  0.045,  0.1,  2.6,  0.066,  4.5,  0.057,  0.090,  7,  10.7,  0.15,  2.5,  27,  0.271,  1.56,  9.3,  3.8,  0.11,  12.2,  5.9,  1.296,  11.45,  2.47,  6.33,  61.17,  180.7,  0.504,  3.42,  49.46,  0.058,  7.4,  17.4,  72.32,  1.51,  0.37,  0.81,  17.49]\n",
    "\n",
    "plt.scatter(X, Y, c=loss_billion, s=death_num, alpha=.8, cmap='viridis')\n",
    "plt.colorbar()\n",
    "\n",
    "plt.ylabel('Hurricane Days')\n",
    "plt.xlabel('Nino 3.4 (K)')\n",
    "plt.title(\"Hurricane-ENSO Relation (Jul-Nov)\")"
   ]
  },
  {
   "cell_type": "code",
   "execution_count": null,
   "metadata": {
    "slideshow": {
     "slide_type": "slide"
    }
   },
   "outputs": [],
   "source": [
    "# put some data into a netcdf file \n",
    "\n",
    "from netCDF4 import Dataset, num2date\n",
    "rootgrp = Dataset(\"hurr_nina34.nc\", \"w\", format=\"NETCDF4\")\n",
    "rootgrp.createDimension(\"year\", yr_end-yr_start+1)\n",
    "\n",
    "hurr=rootgrp.createVariable(\"hurr\",\"f4\",(\"year\"))\n",
    "hurr[:]=hurr_jason\n",
    "nina34=rootgrp.createVariable(\"nina34\",\"f4\",(\"year\"))\n",
    "nina34[:]=nina_jason\n",
    "\n",
    "rootgrp.close()"
   ]
  }
 ],
 "metadata": {
  "celltoolbar": "Slideshow",
  "kernelspec": {
   "display_name": "Python 3",
   "language": "python",
   "name": "python3"
  },
  "language_info": {
   "codemirror_mode": {
    "name": "ipython",
    "version": 3
   },
   "file_extension": ".py",
   "mimetype": "text/x-python",
   "name": "python",
   "nbconvert_exporter": "python",
   "pygments_lexer": "ipython3",
   "version": "3.7.3"
  }
 },
 "nbformat": 4,
 "nbformat_minor": 2
}
